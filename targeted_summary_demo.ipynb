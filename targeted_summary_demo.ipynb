{
  "cells": [
    {
      "cell_type": "code",
      "execution_count": 1,
      "metadata": {
        "id": "XR2qR3KXzOQI"
      },
      "outputs": [],
      "source": [
        "!pip install targeted-sum -q\n",
        "!pip install wikipedia -q"
      ]
    },
    {
      "cell_type": "code",
      "execution_count": 2,
      "metadata": {
        "id": "J2TCsFEXzQzN"
      },
      "outputs": [],
      "source": [
        "from targeted_sum import TextReducer\n",
        "import wikipedia"
      ]
    },
    {
      "cell_type": "code",
      "execution_count": null,
      "metadata": {
        "id": "A8Pdvymqzaj7"
      },
      "outputs": [],
      "source": [
        "article_name = \"Joeseph Biden\"\n",
        "wikipedia.set_lang(\"en\")\n",
        "article = wikipedia.page(article_name)\n",
        "\n",
        "reducer = TextReducer.Reducer(device=0)"
      ]
    },
    {
      "cell_type": "code",
      "execution_count": 4,
      "metadata": {
        "colab": {
          "base_uri": "https://localhost:8080/",
          "height": 122
        },
        "id": "iDSZeUdu0h4Z",
        "outputId": "0a07d738-2552-4c7a-b184-5e4a853de7eb"
      },
      "outputs": [
        {
          "data": {
            "application/vnd.google.colaboratory.intrinsic+json": {
              "type": "string"
            },
            "text/plain": [
              "'Joseph Robinette Biden Jr. ( (listen) BY-dən; born November 20, 1942) is an American politician who is the 46th and current president of the United States. A member of the Democratic Party, he previously served as the 47th vice president from 2009 to 2017 under President Barack Obama, and represented Delaware in the United States Senate from 1973 to 2009. Born in Scranton, Pennsylvania, Biden moved with his family to Delaware in 1953. He chaired the Senate Judiciary Committee from 1987 to 1995; led the effort to pass the Violent Crime Control and Law Enforcement Act and the Violence Against Women Act; and oversaw six U.S. Supreme Court confirmation hearings, including the contentious hearings for Robert Bork and Clarence Thomas. Biden was recruited by local Republicans but registered as an Independent because of his distaste for Republican presidential candidate Richard Nixon.'"
            ]
          },
          "execution_count": 4,
          "metadata": {},
          "output_type": "execute_result"
        }
      ],
      "source": [
        "# Summarize the article\n",
        "summary = reducer.summarize(article.content, num_sents=5)\n",
        "summary"
      ]
    },
    {
      "cell_type": "code",
      "execution_count": 5,
      "metadata": {
        "colab": {
          "base_uri": "https://localhost:8080/",
          "height": 104
        },
        "id": "THqFKgb40j0Q",
        "outputId": "629ebada-a697-4c63-857f-5e2a233e635d"
      },
      "outputs": [
        {
          "data": {
            "application/vnd.google.colaboratory.intrinsic+json": {
              "type": "string"
            },
            "text/plain": [
              "\"In foreign policy, Biden restored America's membership in the Paris Agreement on climate change. He responded to the 2022 Russian invasion of Ukraine by imposing sanctions on Russia and authorizing foreign aid and weapons shipments to Ukraine.\\n\\n\\n         In June 2021, Biden took his first trip abroad as president. The policy was stated in contrast to Biden's previous exclusion of boots-on-the-ground and planes-in-the-air for U.S. support for Ukraine in its conflict with Russia. In late 2022, Biden issued several executive orders and federal rules designed to slow Chinese technological growth, and maintain U.S. leadership over computing, biotech, and clean energy.\\n\\n\""
            ]
          },
          "execution_count": 5,
          "metadata": {},
          "output_type": "execute_result"
        }
      ],
      "source": [
        "# Find a specific section of the article\n",
        "section_name = \"Foreign Policy\"\n",
        "section = reducer.reduce(article.content, section_name, num_sents=5)\n",
        "section"
      ]
    },
    {
      "cell_type": "code",
      "execution_count": 6,
      "metadata": {
        "colab": {
          "base_uri": "https://localhost:8080/",
          "height": 87
        },
        "id": "_ZwrnB6rNiEY",
        "outputId": "90eaae6d-f4dc-4a34-e54e-77bfd29e0cf7"
      },
      "outputs": [
        {
          "data": {
            "application/vnd.google.colaboratory.intrinsic+json": {
              "type": "string"
            },
            "text/plain": [
              "\"Biden signed the bill on June 25, 2022.The Honoring our PACT Act of 2022 was introduced in 2021, and signed into law by Biden on August 10, 2022. The act intends to significantly improve healthcare access and funding for veterans who were exposed to toxic substances during military service, including burn pits. Biden signed the CHIPS and Science Act into law on August 9, 2022. Biden is a staunch supporter of the Affordable Care Act (ACA). Biden's plan aims to expand health insurance coverage to 97% of Americans, including by creating a public health insurance option.\""
            ]
          },
          "execution_count": 6,
          "metadata": {},
          "output_type": "execute_result"
        }
      ],
      "source": [
        "# Find a specific section of the article\n",
        "section_name = \"Healthcare\"\n",
        "section = reducer.reduce(article.content, section_name, num_sents=5)\n",
        "section"
      ]
    },
    {
      "cell_type": "code",
      "execution_count": 7,
      "metadata": {
        "colab": {
          "base_uri": "https://localhost:8080/",
          "height": 70
        },
        "id": "--4sB4lR0mx1",
        "outputId": "304b2df7-0077-420c-a2bb-f5131f762239"
      },
      "outputs": [
        {
          "data": {
            "application/vnd.google.colaboratory.intrinsic+json": {
              "type": "string"
            },
            "text/plain": [
              "'The Bidens maintained a relaxed atmosphere at their official residence in Washington, often entertaining their grandchildren, and regularly returned to their home in Delaware. In 2022, journalist Sasha Issenberg wrote that Biden\\'s \"most valuable political skill\" was \"an innate compass for the ever-shifting mainstream of the Democratic party. Biden has a reputation for stumbling over his words and being prone to gaffes.'"
            ]
          },
          "execution_count": 7,
          "metadata": {},
          "output_type": "execute_result"
        }
      ],
      "source": [
        "# Answer a simple question\n",
        "question = \"What are some of Joe Biden's hobbies?\"\n",
        "answer = reducer.reduce(article.content, question, num_sents=3)\n",
        "answer"
      ]
    }
  ],
  "metadata": {
    "accelerator": "GPU",
    "colab": {
      "provenance": []
    },
    "gpuClass": "standard",
    "kernelspec": {
      "display_name": "Python 3",
      "name": "python3"
    },
    "language_info": {
      "name": "python"
    }
  },
  "nbformat": 4,
  "nbformat_minor": 0
}
